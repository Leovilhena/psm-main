{
 "cells": [
  {
   "cell_type": "markdown",
   "metadata": {},
   "source": [
    "# Task"
   ]
  },
  {
   "cell_type": "markdown",
   "metadata": {},
   "source": [
    "Create computer applications that implement numerical integration \n",
    "\n",
    "1. by the rectangles method,\n",
    "2. the trapezoidal method and\n",
    "3. parabol method.\n",
    "\n",
    "Use these applications to calculate integrals of functions for which you know exactly the results of integration, and then compare and discuss the results obtained."
   ]
  },
  {
   "cell_type": "markdown",
   "metadata": {},
   "source": [
    "# Solution"
   ]
  },
  {
   "cell_type": "markdown",
   "metadata": {},
   "source": [
    "## Imports"
   ]
  },
  {
   "cell_type": "code",
   "execution_count": 1,
   "metadata": {},
   "outputs": [],
   "source": [
    "import matplotlib.pyplot as plt\n",
    "import numpy as np"
   ]
  },
  {
   "cell_type": "markdown",
   "metadata": {},
   "source": [
    "## Rectangles method"
   ]
  },
  {
   "cell_type": "code",
   "execution_count": 2,
   "metadata": {},
   "outputs": [],
   "source": [
    "def rectangles_integration(func, a, b, points_num):\n",
    "    n = np.linspace(a, b, points_num)\n",
    "    _sum = 0\n",
    "    for i in range(1, points_num):\n",
    "        left = n[i-1]\n",
    "        right = n[i]\n",
    "        area = (right - left) * (func((left + right) / 2))\n",
    "        _sum += area\n",
    "    \n",
    "    return _sum"
   ]
  },
  {
   "cell_type": "markdown",
   "metadata": {},
   "source": [
    "## Trapezoidal method"
   ]
  },
  {
   "cell_type": "code",
   "execution_count": 3,
   "metadata": {},
   "outputs": [],
   "source": [
    "def trapezoidal_integration(func, a, b, points_num):\n",
    "    n = np.linspace(a, b, points_num)\n",
    "    _sum = 0\n",
    "    for i in range(1, points_num):\n",
    "        left = n[i-1]\n",
    "        right = n[i]\n",
    "        area = (right - left) * ((func(left) + func(right)) / 2)\n",
    "        _sum += area\n",
    "        \n",
    "    return _sum"
   ]
  },
  {
   "cell_type": "markdown",
   "metadata": {},
   "source": [
    "## Parabol method"
   ]
  },
  {
   "cell_type": "code",
   "execution_count": 4,
   "metadata": {},
   "outputs": [],
   "source": [
    "def parabol_integration(func, a, b, points_num):\n",
    "    step = (b - a) / points_num\n",
    "    _sum = func(a) + func(b)\n",
    "    \n",
    "    for i in range(1, points_num):\n",
    "        x = a + i * step\n",
    "        if i%2 == 0:\n",
    "            _sum = _sum + 2 * func(x)\n",
    "        else:\n",
    "            _sum = _sum + 4 * func(x)\n",
    "    \n",
    "    return _sum * (step / 3)"
   ]
  },
  {
   "cell_type": "markdown",
   "metadata": {},
   "source": [
    "# Tests"
   ]
  },
  {
   "cell_type": "markdown",
   "metadata": {},
   "source": [
    "## f(x) = x^2, a = 0, b = 2, points_num = 10"
   ]
  },
  {
   "cell_type": "code",
   "execution_count": 5,
   "metadata": {},
   "outputs": [],
   "source": [
    "def func(x): return x ** 2\n",
    "a = 0\n",
    "b = 2\n",
    "points_num = 10"
   ]
  },
  {
   "cell_type": "code",
   "execution_count": 6,
   "metadata": {},
   "outputs": [
    {
     "name": "stdout",
     "output_type": "stream",
     "text": [
      "Points number: 10\n",
      "Real value: 2.6666666666666665\n",
      "Rectangles result: 2.6584362139917697, error: 0.00823045267489686\n",
      "Trapezoidal result: 2.683127572016461, error: 0.016460905349794608\n",
      "Parabol result: 2.6666666666666665, error: 0.0\n"
     ]
    }
   ],
   "source": [
    "print(f'Points number: {points_num}')\n",
    "real_value = 8/3\n",
    "print(f'Real value: {real_value}')\n",
    "rect_value = rectangles_integration(func, a, b, points_num)\n",
    "rect_error = abs(rect_value - real_value)\n",
    "print(f'Rectangles result: {rectangles_integration(func, a, b, points_num)}, error: {rect_error}')\n",
    "trap_value = trapezoidal_integration(func, a, b, points_num)\n",
    "trap_error = abs(trap_value - real_value)\n",
    "print(f'Trapezoidal result: {trapezoidal_integration(func, a, b, points_num)}, error: {trap_error}')\n",
    "parabol_value = parabol_integration(func, a, b, points_num)\n",
    "parabol_error = abs(parabol_value - real_value)\n",
    "print(f'Parabol result: {parabol_integration(func, a, b, points_num)}, error: {parabol_error}')"
   ]
  },
  {
   "cell_type": "code",
   "execution_count": 7,
   "metadata": {},
   "outputs": [],
   "source": [
    "points_num = 20"
   ]
  },
  {
   "cell_type": "code",
   "execution_count": 8,
   "metadata": {},
   "outputs": [
    {
     "name": "stdout",
     "output_type": "stream",
     "text": [
      "Points number: 20\n",
      "Real value: 2.6666666666666665\n",
      "Rectangles result: 2.6648199445983383, error: 0.0018467220683282548\n",
      "Trapezoidal result: 2.670360110803324, error: 0.003693444136657398\n",
      "Parabol result: 2.666666666666667, error: 4.440892098500626e-16\n"
     ]
    }
   ],
   "source": [
    "print(f'Points number: {points_num}')\n",
    "real_value = 8/3\n",
    "print(f'Real value: {real_value}')\n",
    "rect_value = rectangles_integration(func, a, b, points_num)\n",
    "rect_error = abs(rect_value - real_value)\n",
    "print(f'Rectangles result: {rectangles_integration(func, a, b, points_num)}, error: {rect_error}')\n",
    "trap_value = trapezoidal_integration(func, a, b, points_num)\n",
    "trap_error = abs(trap_value - real_value)\n",
    "print(f'Trapezoidal result: {trapezoidal_integration(func, a, b, points_num)}, error: {trap_error}')\n",
    "parabol_value = parabol_integration(func, a, b, points_num)\n",
    "parabol_error = abs(parabol_value - real_value)\n",
    "print(f'Parabol result: {parabol_integration(func, a, b, points_num)}, error: {parabol_error}')"
   ]
  },
  {
   "cell_type": "markdown",
   "metadata": {},
   "source": [
    "## f(x) = x^3 + x^2 + x"
   ]
  },
  {
   "cell_type": "code",
   "execution_count": 9,
   "metadata": {},
   "outputs": [],
   "source": [
    "def func(x): return x ** 3 + x ** 2 + x\n",
    "a = 1\n",
    "b = 3\n",
    "points_num = 10"
   ]
  },
  {
   "cell_type": "code",
   "execution_count": 10,
   "metadata": {},
   "outputs": [
    {
     "name": "stdout",
     "output_type": "stream",
     "text": [
      "Points number: 10\n",
      "Real value: 32.666666666666664\n",
      "Rectangles result: 32.609053497942384, error: 0.05761316872428068\n",
      "Trapezoidal result: 32.781893004115226, error: 0.11522633744856137\n",
      "Parabol result: 32.666666666666664, error: 0.0\n"
     ]
    }
   ],
   "source": [
    "print(f'Points number: {points_num}')\n",
    "real_value = 32 + 2/3\n",
    "print(f'Real value: {real_value}')\n",
    "rect_value = rectangles_integration(func, a, b, points_num)\n",
    "rect_error = abs(rect_value - real_value)\n",
    "print(f'Rectangles result: {rectangles_integration(func, a, b, points_num)}, error: {rect_error}')\n",
    "trap_value = trapezoidal_integration(func, a, b, points_num)\n",
    "trap_error = abs(trap_value - real_value)\n",
    "print(f'Trapezoidal result: {trapezoidal_integration(func, a, b, points_num)}, error: {trap_error}')\n",
    "parabol_value = parabol_integration(func, a, b, points_num)\n",
    "parabol_error = abs(parabol_value - real_value)\n",
    "print(f'Parabol result: {parabol_integration(func, a, b, points_num)}, error: {parabol_error}')"
   ]
  },
  {
   "cell_type": "code",
   "execution_count": 11,
   "metadata": {},
   "outputs": [],
   "source": [
    "points_num = 20"
   ]
  },
  {
   "cell_type": "code",
   "execution_count": 12,
   "metadata": {},
   "outputs": [
    {
     "name": "stdout",
     "output_type": "stream",
     "text": [
      "Points number: 20\n",
      "Real value: 32.666666666666664\n",
      "Rectangles result: 32.65373961218837, error: 0.012927054478296895\n",
      "Trapezoidal result: 32.692520775623265, error: 0.025854108956600896\n",
      "Parabol result: 32.66666666666667, error: 7.105427357601002e-15\n"
     ]
    }
   ],
   "source": [
    "print(f'Points number: {points_num}')\n",
    "real_value = 32 + 2/3\n",
    "print(f'Real value: {real_value}')\n",
    "rect_value = rectangles_integration(func, a, b, points_num)\n",
    "rect_error = abs(rect_value - real_value)\n",
    "print(f'Rectangles result: {rectangles_integration(func, a, b, points_num)}, error: {rect_error}')\n",
    "trap_value = trapezoidal_integration(func, a, b, points_num)\n",
    "trap_error = abs(trap_value - real_value)\n",
    "print(f'Trapezoidal result: {trapezoidal_integration(func, a, b, points_num)}, error: {trap_error}')\n",
    "parabol_value = parabol_integration(func, a, b, points_num)\n",
    "parabol_error = abs(parabol_value - real_value)\n",
    "print(f'Parabol result: {parabol_integration(func, a, b, points_num)}, error: {parabol_error}')"
   ]
  },
  {
   "cell_type": "markdown",
   "metadata": {},
   "source": [
    "# Conclusions"
   ]
  },
  {
   "cell_type": "markdown",
   "metadata": {
    "pycharm": {
     "name": "#%% md\n"
    }
   },
   "source": [
    "Both methods were tested on 2 different functions with different number of points (10 and 20). Results were compared with real values (absolute error).\n",
    "\n",
    "The best results (smallest error) were achieved with parabol algorithm, which was almost perfect in all cases (absolute error < 10^-15). Trapezoidal integration performed better than rectangles approach.\n",
    "\n",
    "Another observation - more points = better results."
   ]
  }
 ],
 "metadata": {
  "kernelspec": {
   "display_name": "Python 3 (ipykernel)",
   "language": "python",
   "name": "python3"
  },
  "language_info": {
   "codemirror_mode": {
    "name": "ipython",
    "version": 3
   },
   "file_extension": ".py",
   "mimetype": "text/x-python",
   "name": "python",
   "nbconvert_exporter": "python",
   "pygments_lexer": "ipython3",
   "version": "3.8.10"
  }
 },
 "nbformat": 4,
 "nbformat_minor": 4
}