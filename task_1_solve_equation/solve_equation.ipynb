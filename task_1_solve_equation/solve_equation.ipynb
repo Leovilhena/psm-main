{
 "cells": [
  {
   "cell_type": "markdown",
   "metadata": {},
   "source": [
    "# Task"
   ]
  },
  {
   "cell_type": "markdown",
   "metadata": {},
   "source": [
    "Design, write and test a computer application that finds the roots of any nonlinear equation entered as initial data, and then solves this nonlinear equation by three methods:\n",
    "\n",
    "1. bisection method,\n",
    "2. by the regula falsi method and\n",
    "3. by secant method\n",
    "\n",
    "and then comparing the results obtained."
   ]
  },
  {
   "cell_type": "markdown",
   "metadata": {},
   "source": [
    "# Methods"
   ]
  },
  {
   "cell_type": "markdown",
   "metadata": {},
   "source": [
    "## Bisection method"
   ]
  },
  {
   "cell_type": "code",
   "execution_count": 1,
   "metadata": {},
   "outputs": [],
   "source": [
    "def bisection_root(func, a, b, error):\n",
    "    assert func(a) * func(b) < 0, 'f(a) and f(b) have to be of different sign'\n",
    "    \n",
    "    iters = 0\n",
    "    root = (a + b) / 2\n",
    "    while abs(func(root)) > error:\n",
    "        iters += 1\n",
    "        if func(root) == 0:\n",
    "            return root\n",
    "        if func(a) * func(root) > 0:\n",
    "            a = root\n",
    "        else:\n",
    "            b = root\n",
    "        root = (a + b) / 2\n",
    "    \n",
    "    return root, iters"
   ]
  },
  {
   "cell_type": "markdown",
   "metadata": {},
   "source": [
    "## Regula falsi method"
   ]
  },
  {
   "cell_type": "code",
   "execution_count": 2,
   "metadata": {},
   "outputs": [],
   "source": [
    "def regula_falsi_root(func, a, b, error):\n",
    "    assert func(a) * func(b) < 0, 'f(a) and f(b) have to be of different sign'\n",
    "    \n",
    "    iters = 0\n",
    "    root = a - ((b - a) * func(a) / (func(b) - func(a)))\n",
    "    while abs(func(root)) > error:\n",
    "        iters += 1\n",
    "        if func(root) == 0:\n",
    "            return root, iters\n",
    "            # b = root\n",
    "        else:\n",
    "            a = root\n",
    "        root = a - ((b - a) * func(a) / (func(b) - func(a)))\n",
    "    \n",
    "    return root, iters"
   ]
  },
  {
   "cell_type": "markdown",
   "metadata": {},
   "source": [
    "## Secant method"
   ]
  },
  {
   "cell_type": "code",
   "execution_count": 3,
   "metadata": {},
   "outputs": [],
   "source": [
    "def secant_root(func, a, b, error):\n",
    "    \n",
    "    iters = 0\n",
    "    root = a - ((b - a) * func(a)) / (func(b) - func(a))\n",
    "    while abs(func(root)) > error:\n",
    "        iters += 1\n",
    "        if func(root) == 0:\n",
    "            return root   \n",
    "        a = b\n",
    "        b = root\n",
    "        root = a - ((b - a) * func(a)) / (func(b) - func(a))\n",
    "        \n",
    "    return root, iters"
   ]
  },
  {
   "cell_type": "markdown",
   "metadata": {},
   "source": [
    "# Tests"
   ]
  },
  {
   "cell_type": "markdown",
   "metadata": {},
   "source": [
    "## f(x) = x^2 - 1"
   ]
  },
  {
   "cell_type": "code",
   "execution_count": 4,
   "metadata": {},
   "outputs": [],
   "source": [
    "def func(x): return x ** 2 - 1\n",
    "a = 0\n",
    "b = 3\n",
    "error = 1e-5"
   ]
  },
  {
   "cell_type": "code",
   "execution_count": 5,
   "metadata": {},
   "outputs": [
    {
     "name": "stdout",
     "output_type": "stream",
     "text": [
      "Initial interval: [0, 3]\n",
      "Real root: 1\n",
      "Bisection root: 0.9999961853027344 in 17 iterations\n",
      "Regula falsi root: 0.9999961853100103 in 18 iterations\n",
      "Secant root: 0.9999990463261383 in 6 iterations\n"
     ]
    }
   ],
   "source": [
    "print('Initial interval: [0, 3]')\n",
    "print(f'Real root: {1}')\n",
    "b_root, b_iters = bisection_root(func, a, b, error)\n",
    "print(f'Bisection root: {b_root} in {b_iters} iterations')\n",
    "r_root, r_iters = regula_falsi_root(func, a, b, error)\n",
    "print(f'Regula falsi root: {r_root} in {r_iters} iterations')\n",
    "s_root, s_iters = secant_root(func, a, b, error)\n",
    "print(f'Secant root: {s_root} in {s_iters} iterations')"
   ]
  },
  {
   "cell_type": "code",
   "execution_count": 6,
   "metadata": {},
   "outputs": [],
   "source": [
    "a = -0.5\n",
    "b = 1.5"
   ]
  },
  {
   "cell_type": "code",
   "execution_count": 7,
   "metadata": {},
   "outputs": [
    {
     "name": "stdout",
     "output_type": "stream",
     "text": [
      "Initial interval: [-0.5, 1.5]\n",
      "Real root: 1\n",
      "Bisection root: 1.0 in 1 iterations\n",
      "Regula falsi root: 0.9999969280047186 in 8 iterations\n",
      "Secant root: 0.9999999933129247 in 6 iterations\n"
     ]
    }
   ],
   "source": [
    "print('Initial interval: [-0.5, 1.5]')\n",
    "print(f'Real root: {1}')\n",
    "b_root, b_iters = bisection_root(func, a, b, error)\n",
    "print(f'Bisection root: {b_root} in {b_iters} iterations')\n",
    "r_root, r_iters = regula_falsi_root(func, a, b, error)\n",
    "print(f'Regula falsi root: {r_root} in {r_iters} iterations')\n",
    "s_root, s_iters = secant_root(func, a, b, error)\n",
    "print(f'Secant root: {s_root} in {s_iters} iterations')"
   ]
  },
  {
   "cell_type": "markdown",
   "metadata": {},
   "source": [
    "## f(x) = x^3 - 1"
   ]
  },
  {
   "cell_type": "code",
   "execution_count": 8,
   "metadata": {},
   "outputs": [],
   "source": [
    "def func(x): return x ** 3 - 1\n",
    "a = 0\n",
    "b = 3\n",
    "error = 1e-5"
   ]
  },
  {
   "cell_type": "code",
   "execution_count": 9,
   "metadata": {},
   "outputs": [
    {
     "name": "stdout",
     "output_type": "stream",
     "text": [
      "Initial interval: [0, 3]\n",
      "Real root: 1\n",
      "Bisection root: 1.0000019073486328 in 18 iterations\n",
      "Regula falsi root: 0.9999973465856186 in 52 iterations\n",
      "Secant root: 0.9999999900950081 in 21 iterations\n"
     ]
    }
   ],
   "source": [
    "print('Initial interval: [0, 3]')\n",
    "print(f'Real root: {1}')\n",
    "b_root, b_iters = bisection_root(func, a, b, error)\n",
    "print(f'Bisection root: {b_root} in {b_iters} iterations')\n",
    "r_root, r_iters = regula_falsi_root(func, a, b, error)\n",
    "print(f'Regula falsi root: {r_root} in {r_iters} iterations')\n",
    "s_root, s_iters = secant_root(func, a, b, error)\n",
    "print(f'Secant root: {s_root} in {s_iters} iterations')"
   ]
  },
  {
   "cell_type": "code",
   "execution_count": 10,
   "metadata": {},
   "outputs": [],
   "source": [
    "a = -1.5\n",
    "b = 1.5"
   ]
  },
  {
   "cell_type": "code",
   "execution_count": 11,
   "metadata": {},
   "outputs": [
    {
     "name": "stdout",
     "output_type": "stream",
     "text": [
      "Initial interval: [-1.5, 1.5]\n",
      "Real root: 1\n",
      "Bisection root: 1.0000019073486328 in 18 iterations\n",
      "Regula falsi root: 0.9999979958688306 in 13 iterations\n",
      "Secant root: 0.9999999553824443 in 7 iterations\n"
     ]
    }
   ],
   "source": [
    "print('Initial interval: [-1.5, 1.5]')\n",
    "print(f'Real root: {1}')\n",
    "b_root, b_iters = bisection_root(func, a, b, error)\n",
    "print(f'Bisection root: {b_root} in {b_iters} iterations')\n",
    "r_root, r_iters = regula_falsi_root(func, a, b, error)\n",
    "print(f'Regula falsi root: {r_root} in {r_iters} iterations')\n",
    "s_root, s_iters = secant_root(func, a, b, error)\n",
    "print(f'Secant root: {s_root} in {s_iters} iterations')"
   ]
  },
  {
   "cell_type": "markdown",
   "metadata": {},
   "source": [
    "# Conclusions"
   ]
  },
  {
   "cell_type": "markdown",
   "metadata": {},
   "source": [
    "All algorithms were tested on 2 different functions with different start intervals. Methods are supposed to finish execution after reaching certain error (less than 10^-5).\n",
    "\n",
    "It can be seen that number of iterations depends on function and initial interval. For the same method and function algorithms worked in different number of iterations with different initial interval.\n",
    "\n",
    "In testes cases smaller initial interval results in less iterations needed to find solution.\n",
    "\n",
    "In most cases secant method was the fastest one. What's more it doesn't put any restrictions on initial interval. To compare bisection and regula falsi methods more test have to be conducted.\n",
    "\n",
    "Of course all observations were made according to tests which were conducted only on 2 functions, so they are 100% true only in this cases."
   ]
  }
 ],
 "metadata": {
  "kernelspec": {
   "display_name": "Python 3 (ipykernel)",
   "language": "python",
   "name": "python3"
  },
  "language_info": {
   "codemirror_mode": {
    "name": "ipython",
    "version": 3
   },
   "file_extension": ".py",
   "mimetype": "text/x-python",
   "name": "python",
   "nbconvert_exporter": "python",
   "pygments_lexer": "ipython3",
   "version": "3.8.10"
  }
 },
 "nbformat": 4,
 "nbformat_minor": 4
}
